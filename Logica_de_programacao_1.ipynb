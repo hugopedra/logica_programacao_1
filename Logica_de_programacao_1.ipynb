{
 "cells": [
  {
   "cell_type": "markdown",
   "metadata": {
    "id": "ksWegZoKs1PA"
   },
   "source": [
    "## 🎯 Exercícios 🎯 <a class=\"anchor\" id=\"cinco\"></a>"
   ]
  },
  {
   "cell_type": "markdown",
   "metadata": {
    "id": "UbK0yPCys1PB"
   },
   "source": [
    "**1)** Faça um Programa que peça as 4 notas bimestrais e mostre a média."
   ]
  },
  {
   "cell_type": "code",
   "execution_count": 2,
   "metadata": {
    "id": "6Q6tE9z9s1PB"
   },
   "outputs": [
    {
     "name": "stdout",
     "output_type": "stream",
     "text": [
      "A sua média do bimestre é: 6.0\n"
     ]
    }
   ],
   "source": [
    "# Modo 1:\n",
    "nota1 = float(input('Digite a primeira nota do bimestre: '))\n",
    "nota2 = float(input('Digite a segunda nota do bimestre: '))\n",
    "nota3 = float(input('Digite a terceira nota do bimestre: '))\n",
    "nota4 = float(input('Digite a quarta nota do bimestre: '))\n",
    "\n",
    "media = (nota1 + nota2 + nota3 + nota4)/4\n",
    "print('A sua média do bimestre é:', media)"
   ]
  },
  {
   "cell_type": "code",
   "execution_count": 17,
   "metadata": {},
   "outputs": [
    {
     "name": "stdout",
     "output_type": "stream",
     "text": [
      "A sua média do bimestre é: 6.79\n"
     ]
    }
   ],
   "source": [
    "# Modo 2:\n",
    "notas = int(input('Quantas notas você quer lançar nesse bimestre? '))\n",
    "soma_notas = 0\n",
    "\n",
    "for i in range (notas):\n",
    "    nota = float(input(f'Digite a nota {i+1} do bimestre: '))\n",
    "    soma_notas += nota\n",
    "\n",
    "media = round(soma_notas / notas, 2)\n",
    "print('A sua média do bimestre é:', media)"
   ]
  },
  {
   "cell_type": "markdown",
   "metadata": {
    "id": "ED1eOWnfs1PB"
   },
   "source": [
    "**2)** Faça um Programa que pergunte quanto você ganha por hora e o número de horas trabalhadas no mês. Calcule e mostre o total do seu salário no referido mês."
   ]
  },
  {
   "cell_type": "code",
   "execution_count": 13,
   "metadata": {
    "id": "elBT1_j-s1PB"
   },
   "outputs": [
    {
     "name": "stdout",
     "output_type": "stream",
     "text": [
      "O seu salário do mês foi: R$ 293.88\n"
     ]
    }
   ],
   "source": [
    "salario_hora = float(input('Qual seu salário por hora? '))\n",
    "hora_trabalhada = float(input('Quantas horas foram trabalhadas? '))\n",
    "\n",
    "salario = salario_hora * hora_trabalhada\n",
    "print('O seu salário do mês foi: R$', round(salario, 2))"
   ]
  },
  {
   "cell_type": "markdown",
   "metadata": {
    "id": "d4cKZGA5s1PC"
   },
   "source": [
    "**3)** Faça um Programa que peça a temperatura em graus Fahrenheit, transforme e mostre a temperatura em graus Celsius.<br>\n",
    "\n",
    "$$ C = \\frac{5 * (F-32)}{9} $$"
   ]
  },
  {
   "cell_type": "code",
   "execution_count": 11,
   "metadata": {
    "id": "_xL0P4KFs1PC"
   },
   "outputs": [
    {
     "name": "stdout",
     "output_type": "stream",
     "text": [
      "A temperatura equivalente em celsius de 32.0°F é: 0.0°C\n"
     ]
    }
   ],
   "source": [
    "fahrenheit = float(input('Digite a temperatura em °F: '))\n",
    "celsius = round((fahrenheit - 32) * 5 / 9, 2) # round: função para arrondar valor. Argumento 2 significa: qnt de casas decimais\n",
    "print(f'A temperatura equivalente em celsius de {fahrenheit}°F é: {celsius}°C')"
   ]
  },
  {
   "cell_type": "markdown",
   "metadata": {
    "id": "_LFfv-s2Ax2o"
   },
   "source": [
    "**4)** Faça um programa que pede um número e imprime a tabuada de desse número."
   ]
  },
  {
   "cell_type": "code",
   "execution_count": 32,
   "metadata": {
    "id": "-p5CTJxiAx2o"
   },
   "outputs": [
    {
     "name": "stdout",
     "output_type": "stream",
     "text": [
      "5.0 x 0 = 0.0\n",
      "5.0 x 1 = 5.0\n",
      "5.0 x 2 = 10.0\n",
      "5.0 x 3 = 15.0\n",
      "5.0 x 4 = 20.0\n",
      "5.0 x 5 = 25.0\n",
      "5.0 x 6 = 30.0\n",
      "5.0 x 7 = 35.0\n",
      "5.0 x 8 = 40.0\n",
      "5.0 x 9 = 45.0\n",
      "5.0 x 10 = 50.0\n"
     ]
    }
   ],
   "source": [
    "# Modo 1:\n",
    "numero = float(input('Digite um número: '))\n",
    "multiplicador = 0\n",
    "\n",
    "while multiplicador <= 10:\n",
    "    print(f\"{numero} x {multiplicador} = {numero*multiplicador}\")\n",
    "    multiplicador += 1"
   ]
  },
  {
   "cell_type": "code",
   "execution_count": 1,
   "metadata": {},
   "outputs": [
    {
     "name": "stdout",
     "output_type": "stream",
     "text": [
      "10 x 0 = 0\n",
      "10 x 1 = 10\n",
      "10 x 2 = 20\n",
      "10 x 3 = 30\n",
      "10 x 4 = 40\n",
      "10 x 5 = 50\n",
      "10 x 6 = 60\n",
      "10 x 7 = 70\n",
      "10 x 8 = 80\n",
      "10 x 9 = 90\n",
      "10 x 10 = 100\n"
     ]
    }
   ],
   "source": [
    "# Modo 2:\n",
    "numero = int(input(\"Tabuada do número: \"))\n",
    "tabuada = [f\"{numero} x {index} = {numero*index}\" for index in range(11)]\n",
    "print(\"\\n\".join(tabuada))"
   ]
  },
  {
   "cell_type": "markdown",
   "metadata": {
    "id": "0WjyN3o2s1PC"
   },
   "source": [
    "**5)** Faça um Programa que pergunte quanto você ganha por hora e o número de horas trabalhadas no mês. Calcule e mostre o total do seu salário no referido mês, sabendo-se que são descontados 11% para o Imposto de Renda, 8% para o INSS e 5% para o sindicato, faça um programa que nos dê:\n",
    "- Salário bruto.\n",
    "- Quanto pagou ao INSS.\n",
    "- Quanto pagou ao sindicato.\n",
    "- O salário líquido."
   ]
  },
  {
   "cell_type": "code",
   "execution_count": 9,
   "metadata": {
    "id": "jUAsGTQ-s1PC"
   },
   "outputs": [
    {
     "name": "stdout",
     "output_type": "stream",
     "text": [
      "O salário bruto é: 400.0\n",
      "O valor pago ao INSS é: 32.0\n",
      "O valor pago ao sindicato é: 20.0\n",
      "O salário líquido é: 304.0\n"
     ]
    }
   ],
   "source": [
    "salario_hora = float(input('Qual seu salário por hora? '))\n",
    "hora_trabalhada = float(input('Quantas horas foram trabalhadas? '))\n",
    "\n",
    "pct_IR = 0.11\n",
    "pct_INSS = 0.08\n",
    "pct_sindicato = 0.05\n",
    "\n",
    "salario_bruto = salario_hora * hora_trabalhada\n",
    "imposto_renda = salario_bruto * pct_IR\n",
    "inss = salario_bruto * pct_INSS\n",
    "sindicato = salario_bruto * pct_sindicato\n",
    "\n",
    "salario_liquido = salario_bruto - inss - imposto_renda - sindicato\n",
    "print('O salário bruto é:', salario_bruto)\n",
    "print('O valor pago ao INSS é:', inss)\n",
    "print('O valor pago ao sindicato é:', sindicato)\n",
    "print('O salário líquido é:', salario_liquido)"
   ]
  },
  {
   "cell_type": "markdown",
   "metadata": {
    "id": "AaZKq2Wfs1PC"
   },
   "source": [
    "**6)** João Papo-de-Pescador, homem de bem, comprou um microcomputador para controlar o rendimento diário de seu trabalho. Toda vez que ele traz um peso de peixes maior que o estabelecido pelo regulamento de pesca do estado de São Paulo (50 quilos) deve pagar uma multa de R$ 4,00 por quilo excedente. João precisa que você faça um programa que leia a variável peso (peso de peixes) e calcule o excesso. Gravar na variável excesso a quantidade de quilos além do limite e na variável multa o valor da multa que João deverá pagar. Imprima os dados do programa com as mensagens adequadas."
   ]
  },
  {
   "cell_type": "code",
   "execution_count": 39,
   "metadata": {
    "id": "lvQpZRQKs1PC"
   },
   "outputs": [
    {
     "name": "stdout",
     "output_type": "stream",
     "text": [
      "Peso máximo permitido por pescador: 50 kg\n",
      "A pesagem de peixes excedeu(kg): 55.0\n",
      "O pescador deverá pagar de multa: R$ 220.0\n"
     ]
    }
   ],
   "source": [
    "# Utilizando estruturas condicionais:\n",
    "print('Peso máximo permitido por pescador: 50 kg')\n",
    "peso = float(input('Qual peso do peixe(kg)? '))\n",
    "\n",
    "if peso > 50:\n",
    "    excesso = peso - 50\n",
    "    multa = excesso * 4\n",
    "    print('A pesagem de peixes excedeu(kg):', excesso)\n",
    "    print('O pescador deverá pagar de multa: R$', multa)\n",
    "else:\n",
    "    print('A pesagem dos peixes é:', peso)\n",
    "    print('Não há multa para o pescador!')"
   ]
  },
  {
   "cell_type": "code",
   "execution_count": 38,
   "metadata": {},
   "outputs": [
    {
     "name": "stdout",
     "output_type": "stream",
     "text": [
      "João trouxe 45Kg de peixes\n",
      "João trouxe 0Kg de peixes a mais do que podia\n",
      "A multa foi de R$0.0\n"
     ]
    }
   ],
   "source": [
    "peso = 55 # só dá para resolver até 99\n",
    "limite = 50\n",
    "\n",
    "diferenca = int(peso/limite) * (peso % limite)\n",
    "\n",
    "multa = float(diferenca * 4)\n",
    "\n",
    "print(f'João trouxe {peso}Kg de peixes')\n",
    "print(f'João trouxe {diferenca}Kg de peixes a mais do que podia')\n",
    "print(f'A multa foi de R${multa}')"
   ]
  },
  {
   "cell_type": "code",
   "execution_count": 41,
   "metadata": {},
   "outputs": [
    {
     "name": "stdout",
     "output_type": "stream",
     "text": [
      "João trouxe 45Kg de peixes\n",
      "João trouxe 0Kg de peixes a mais do que podia\n",
      "A multa foi de R$0.0\n"
     ]
    }
   ],
   "source": [
    "peso = 105\n",
    "limite = 50\n",
    "\n",
    "diferenca = (peso - limite) * (peso > limite)\n",
    "\n",
    "multa = float(diferenca * 4)\n",
    "\n",
    "print(f'João trouxe {peso}Kg de peixes')\n",
    "print(f'João trouxe {diferenca}Kg de peixes a mais do que podia')\n",
    "print(f'A multa foi de R${multa}')"
   ]
  },
  {
   "cell_type": "code",
   "execution_count": 49,
   "metadata": {},
   "outputs": [
    {
     "name": "stdout",
     "output_type": "stream",
     "text": [
      "João trouxe 105.45Kg de peixes\n",
      "João trouxe 60Kg de peixes a mais do que podia\n",
      "A multa foi de R$240.0\n"
     ]
    }
   ],
   "source": [
    "peso = 105\n",
    "limite = 50\n",
    "\n",
    "diferenca = max(peso - limite, 0) # max: função que retorna maior valor (ex.: 50, 0 -> retorna: 50)\n",
    "# se peso for menor que 50, então peso - limite é negativo. Nesse caso a diferença é zero, pois a função max pega o maior valor que é o zero\n",
    "\n",
    "multa = float(diferenca * 4)\n",
    "\n",
    "print(f'João trouxe {peso}Kg de peixes')\n",
    "print(f'João trouxe {diferenca}Kg de peixes a mais do que podia')\n",
    "print(f'A multa foi de R${multa}')"
   ]
  },
  {
   "cell_type": "markdown",
   "metadata": {
    "id": "70DJrG3ds1PD"
   },
   "source": [
    "**7)** Faça um Programa para uma loja de tintas. O programa deverá pedir o tamanho em metros quadrados da área a ser pintada. Considere que a cobertura da tinta é de 1 litro para cada 6 metros quadrados e que a tinta é vendida em latas de 18 litros, que custam 80,00 reais ou em galões de 3,6 litros, que custam 25,00 reais.<br>\n",
    "&emsp; Informe ao usuário as quantidades de tinta a serem compradas e os respectivos preços em 3 situações:\n",
    "- Comprar apenas latas de 18 litros;\n",
    "- Comprar apenas galões de 3,6 litros;\n",
    "- Misturar latas e galões, de forma que o desperdício de tinta seja menor. Podem considerar latas pela metade (valores decimais para quantidade de latas)"
   ]
  },
  {
   "cell_type": "code",
   "execution_count": 18,
   "metadata": {
    "id": "JvBYJ4Fks1PD"
   },
   "outputs": [
    {
     "name": "stdout",
     "output_type": "stream",
     "text": [
      "=-=-=-=-= Informações do consumidor! =-=-=-=-=\n",
      "O tamanho de área de pintura é(m²): 109.0\n",
      "A quantidade de tinta a ser comprada é(L): 18.17\n",
      "\n",
      "=-=-=-=-= Compra apenas de latões! =-=-=-=-=\n",
      "A quantidade de latões a ser comprada(unidade): 2\n",
      "Valor do pagamento(latão): R$160.0\n",
      "\n",
      "=-=-=-=-= Compra apenas de galões! =-=-=-=-=\n",
      "A quantidade de galões a ser comprada(unidade): 6\n",
      "Valor do pagamento(galão): R$150.0\n",
      "\n",
      "=-=-=-=-= Compra de galões e latões! =-=-=-=-=\n",
      "Quantidade de latões a ser comprados: 1\n",
      "Quantidade de galões a ser comprados: 1\n",
      "Pagamento Total: R$105\n"
     ]
    }
   ],
   "source": [
    "# Raciocínio para latão:\n",
    "# Ex.: área: 50 m² -> litros de tinta: área/cobertura da tinta -> qnt latão: litros de tinta/18 -> total_pagar: qnt_latao * preco_latao\n",
    "# Parâmetros de escolha entre galão e latão: menos desperdício e menor custo por Litro de tinta\n",
    "\n",
    "tamanho = float(input('Qual tamanho da área a ser pintada(m²)? '))\n",
    "print('=-=-=-=-= Informações do consumidor! =-=-=-=-=')\n",
    "print('O tamanho de área de pintura é(m²):', tamanho)\n",
    "\n",
    "# Variáveis fixas do problema:\n",
    "cobertura = 6.0\n",
    "tam_latao = 18.0\n",
    "tam_galao = 3.6\n",
    "preco_latao = 80.0\n",
    "preco_galao = 25.0\n",
    "\n",
    "# Qnt de tinta(L):\n",
    "litros_tinta = round(tamanho/cobertura, 2)\n",
    "print('A quantidade de tinta a ser comprada é(L):', litros_tinta)\n",
    "\n",
    "# Desperdício de tinta:\n",
    "sobra_latao = litros_tinta % tam_latao\n",
    "sobra_galao = litros_tinta % tam_galao\n",
    "\n",
    "\n",
    "# Compra apenas de latões:\n",
    "print('\\n=-=-=-=-= Compra apenas de latões! =-=-=-=-=')\n",
    "qnt_latao = litros_tinta / tam_latao\n",
    "total_pagar_latao = qnt_latao * preco_latao\n",
    "\n",
    "if qnt_latao <= 1.0:\n",
    "    print('Quantidade de latões comprados: 1')\n",
    "    print('Valor do pagamento(latão): R$80,00')\n",
    "elif qnt_latao > 1.0 and sobra_latao != 0:\n",
    "    qnt_latao = int(litros_tinta // tam_latao) + 1\n",
    "    total_pagar_latao = qnt_latao * preco_latao\n",
    "    print('A quantidade de latões a ser comprada(unidade):', qnt_latao)\n",
    "    print(f'Valor do pagamento(latão): R${total_pagar_latao}')\n",
    "elif qnt_latao > 1.0 and sobra_latao == 0:\n",
    "    print('A quantidade de latões a ser comprada(unidade):', qnt_latao)\n",
    "    print(f'Valor do pagamento(latão): R${total_pagar_latao}')\n",
    "\n",
    "\n",
    "# Compra apenas de galões:\n",
    "print('\\n=-=-=-=-= Compra apenas de galões! =-=-=-=-=')\n",
    "qnt_galao = litros_tinta / tam_galao\n",
    "total_pagar_galao = qnt_galao * preco_galao\n",
    "\n",
    "if qnt_galao <= 1.0:\n",
    "    print('Quantidade de galões comprados: 1')\n",
    "    print('Valor do pagamento(galão): R$25,00')\n",
    "elif qnt_galao > 1.0 and sobra_galao != 0:\n",
    "    qnt_galao = int(litros_tinta // tam_galao) + 1\n",
    "    total_pagar_galao = qnt_galao * preco_galao\n",
    "    print('A quantidade de galões a ser comprada(unidade):', qnt_galao)\n",
    "    print(f'Valor do pagamento(galão): R${total_pagar_galao}')\n",
    "elif qnt_galao > 1.0 and sobra_galao == 0:\n",
    "    print('A quantidade de galões a ser comprada(unidade):', qnt_galao)\n",
    "    print(f'Valor do pagamento(galão): R${total_pagar_galao}')\n",
    "\n",
    "\n",
    "# Compra de galões e latões:\n",
    "if litros_tinta > 14.4:\n",
    "    print('\\n=-=-=-=-= Compra de galões e latões! =-=-=-=-=')\n",
    "    # Motivo de 14.4: qnt de tinta > 14.4 é mais vantagem usar o latão, pois o custo/L do latão é menos do que o do galão.\n",
    "    # E, nesse caso, o desperdício de tinta é o mesmo em relação ao galão\n",
    "    \n",
    "    sobra_tinta = litros_tinta % tam_latao\n",
    "    qnt_latoes = int(litros_tinta // tam_latao)\n",
    "    qnt_galoes = int((litros_tinta - qnt_latoes * tam_latao) / tam_galao)\n",
    "    total_pagar_mistura = qnt_latoes * 80 + qnt_galoes * 25\n",
    "    \n",
    "    if sobra_tinta <= 14.4 and sobra_tinta == 0:\n",
    "        print(f'Quantidade de latões a ser comprados: {qnt_latoes}\\nQuantidade de galões a ser comprados: {qnt_galoes}')\n",
    "        print(f'Pagamento Total: R${total_pagar_mistura}')\n",
    "    \n",
    "    elif sobra_tinta <= 14.4 and sobra_tinta != 0: # Resultado de cálculo com número decimal. Por isso, segue seguintes operações para cálculos\n",
    "        qnt_galoes = int((litros_tinta - qnt_latoes * tam_latao) // tam_galao + 1)\n",
    "        total_pagar_mistura = qnt_latoes * 80 + qnt_galoes * 25\n",
    "        print(f'Quantidade de latões a ser comprados: {qnt_latoes}\\nQuantidade de galões a ser comprados: {qnt_galoes}')\n",
    "        print(f'Pagamento Total: R${total_pagar_mistura}')\n",
    "    \n",
    "    elif sobra_tinta > 14.4 and sobra_tinta == 0: # sobra > 14.4 -> vale usar outro latão em vez de galão\n",
    "        total_pagar_mistura = qnt_latoes * 80\n",
    "        print('Quantidade de latões a ser comprados:', qnt_latoes)\n",
    "        print(f'Pagamento Total: R${total_pagar_mistura}')\n",
    "    \n",
    "    elif sobra_tinta > 14.4 and sobra_tinta != 0:\n",
    "        qnt_latoes = int(litros_tinta // tam_latao) + 1\n",
    "        total_pagar_mistura = qnt_latoes * 80\n",
    "        print('Quantidade de latões a ser comprados:', qnt_latoes)\n",
    "        print(f'Pagamento Total: R${total_pagar_mistura}')\n",
    "\n",
    "else: # se for <= 14.4, vale mais a pena comprar galões para desperdiçar menos. Usei o pass porque essa resposta é o caso de usar somente galões\n",
    "    pass"
   ]
  },
  {
   "cell_type": "code",
   "execution_count": null,
   "metadata": {},
   "outputs": [],
   "source": [
    "tamanho_m2 = float(input('Digite a área a ser pintada (em m²): '))\n",
    "litros = tamanho_m2 / 6\n",
    "\n",
    "preco_latas = 80\n",
    "preco_galoes = 25\n",
    "\n",
    "# Só latas\n",
    "total_latas = (litros // 18) + (litros % 18 > 0)\n",
    "preco_latas_ = total_latas * preco_latas\n",
    "\n",
    "# Só galões\n",
    "total_galoes = (litros // 3.6) + (litros % 3.6 > 0)\n",
    "preco_galoes_ = total_galoes * preco_galoes\n",
    "\n",
    "# Misturando\n",
    "total_latas_m = litros // 18\n",
    "restante = litros - (total_latas * 18)\n",
    "total_galoes_m = (restante // 3.6) + (restante % 3.6 > 0)\n",
    "\n",
    "preco_mistura = total_latas_m * preco_latas + total_galoes_m * preco_galoes \n",
    "\n",
    "# Print\n",
    "print(total_latas, preco_latas)\n",
    "print(total_galoes, preco_galoes)\n",
    "print(total_latas_m, total_galoes_m, preco_mistura)\n"
   ]
  }
 ],
 "metadata": {
  "colab": {
   "collapsed_sections": [],
   "name": "Aula 1 - Introducao.ipynb",
   "provenance": []
  },
  "kernelspec": {
   "display_name": "Python 3 (ipykernel)",
   "language": "python",
   "name": "python3"
  },
  "language_info": {
   "codemirror_mode": {
    "name": "ipython",
    "version": 3
   },
   "file_extension": ".py",
   "mimetype": "text/x-python",
   "name": "python",
   "nbconvert_exporter": "python",
   "pygments_lexer": "ipython3",
   "version": "3.9.7"
  }
 },
 "nbformat": 4,
 "nbformat_minor": 1
}
